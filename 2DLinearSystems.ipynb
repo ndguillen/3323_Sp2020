{
 "cells": [
  {
   "cell_type": "code",
   "execution_count": null,
   "metadata": {},
   "outputs": [],
   "source": [
    "%matplotlib inline\n",
    "import numpy as np\n",
    "import matplotlib.pyplot as plt\n",
    "import scipy.linalg as linalg\n",
    "from matplotlib import animation, rc"
   ]
  },
  {
   "cell_type": "code",
   "execution_count": null,
   "metadata": {},
   "outputs": [],
   "source": [
    "# initialization function \n",
    "def init(): \n",
    "\t# creating an empty plot/frame \n",
    "\tline.set_data([], []) \n",
    "\treturn line,\n",
    "\n",
    "# animation function \n",
    "def animate(i,A,x0):     \n",
    "    # t is a parameter \n",
    "    t = i*(0.1) \n",
    "    U = linalg.expm(t*A) \n",
    "    v = np.dot(U,x0)\n",
    "    # appending new points to x, y axes points list \n",
    "    xdata.append(v[0]) \n",
    "    ydata.append(v[1]) \n",
    "    line.set_data(xdata, ydata) \n",
    "    return (line,) \n",
    "\n",
    "rc('animation', html='jshtml')\n",
    "\n",
    "fig = plt.figure() \n",
    "fig.clear()\n",
    "ax = plt.axes(xlim=(-50, 50), ylim=(-50, 50)) \n",
    "line, = ax.plot([], [], lw=2) \n",
    "ax.set_aspect('equal','box')\n",
    "\n"
   ]
  },
  {
   "cell_type": "code",
   "execution_count": null,
   "metadata": {},
   "outputs": [],
   "source": [
    "A = np.array([[-0.3,1],[-1.6,-0.5]])\n",
    "x0 = np.array([-50,50])\n",
    "\n",
    "xdata, ydata = [], []   \n",
    "\n",
    "anim = animation.FuncAnimation(fig, animate, init_func=init,frames=200,fargs = (A,x0,), interval=20, blit=True) \n",
    "\n",
    "anim\n"
   ]
  },
  {
   "cell_type": "code",
   "execution_count": null,
   "metadata": {},
   "outputs": [],
   "source": []
  },
  {
   "cell_type": "code",
   "execution_count": null,
   "metadata": {},
   "outputs": [],
   "source": []
  }
 ],
 "metadata": {
  "kernelspec": {
   "display_name": "Python 3",
   "language": "python",
   "name": "python3"
  },
  "language_info": {
   "codemirror_mode": {
    "name": "ipython",
    "version": 3
   },
   "file_extension": ".py",
   "mimetype": "text/x-python",
   "name": "python",
   "nbconvert_exporter": "python",
   "pygments_lexer": "ipython3",
   "version": "3.6.8"
  }
 },
 "nbformat": 4,
 "nbformat_minor": 2
}
