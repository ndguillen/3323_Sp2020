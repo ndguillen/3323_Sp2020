{
 "cells": [
  {
   "cell_type": "code",
   "execution_count": null,
   "metadata": {},
   "outputs": [],
   "source": [
    "#Hello! The objective of this notebook is to visualize various solutions to 2D\n",
    "#systems of differential equations with constant coefficients, using a linear algebra library\n",
    "#to compute the matrix exponential\n",
    "\n",
    "%matplotlib inline\n",
    "import numpy as np\n",
    "import matplotlib.pyplot as plt\n",
    "import scipy.linalg as linalg\n",
    "from matplotlib import animation, rc"
   ]
  },
  {
   "cell_type": "code",
   "execution_count": null,
   "metadata": {},
   "outputs": [],
   "source": [
    "# initialization function \n",
    "def init(): \n",
    "\t# creating an empty plot/frame \n",
    "\tline.set_data([], []) \n",
    "\treturn line,\n",
    "\n",
    "# animation function \n",
    "def animate(i,A,x0):     \n",
    "    # t is a parameter \n",
    "    t = i*(0.1) \n",
    "    U = linalg.expm(t*A) \n",
    "    v = np.dot(U,x0)\n",
    "    # appending new points to x, y axes points list \n",
    "    xdata.append(v[0]) \n",
    "    ydata.append(v[1]) \n",
    "    line.set_data(xdata, ydata) \n",
    "    return (line,) \n",
    "\n",
    "rc('animation', html='jshtml')\n",
    "\n",
    "fig = plt.figure() \n",
    "fig.clear()\n",
    "\n",
    "\n",
    "# Selecting size of the box (default is L = 10)\n",
    "L = 10\n",
    "\n",
    "# Generating axes\n",
    "ax = plt.axes(xlim=(-L,L), ylim=(-L,L)) \n",
    "line, = ax.plot([], [], lw=2) \n",
    "ax.set_aspect('equal','box')\n"
   ]
  },
  {
   "cell_type": "code",
   "execution_count": null,
   "metadata": {},
   "outputs": [],
   "source": [
    "#Choosing the matrix\n",
    "#\n",
    "# The matrix A has entries a,b,c,d, as follows\n",
    "#\n",
    "#       a   b\n",
    "# A =  \n",
    "#       c   d\n",
    "\n",
    "\n",
    "# Assigning values to the matrix (default is A = identity matrix)\n",
    "a,b,c,d = 1,0,0,1\n",
    "A = np.array([[a,b],[c,d]])\n",
    "\n",
    "# Picking an initial condition (default is x0 = (1,0))\n",
    "x0 = np.array([1,0])\n",
    "\n",
    "# Computing trajectory and generating animation\n",
    "xdata, ydata = [], []   \n",
    "anim = animation.FuncAnimation(fig, animate, init_func=init,frames=100,fargs = (A,x0,), interval=20, blit=True) \n",
    "\n",
    "anim"
   ]
  },
  {
   "cell_type": "code",
   "execution_count": null,
   "metadata": {},
   "outputs": [],
   "source": []
  },
  {
   "cell_type": "code",
   "execution_count": null,
   "metadata": {},
   "outputs": [],
   "source": []
  }
 ],
 "metadata": {
  "kernelspec": {
   "display_name": "Python 3",
   "language": "python",
   "name": "python3"
  },
  "language_info": {
   "codemirror_mode": {
    "name": "ipython",
    "version": 3
   },
   "file_extension": ".py",
   "mimetype": "text/x-python",
   "name": "python",
   "nbconvert_exporter": "python",
   "pygments_lexer": "ipython3",
   "version": "3.6.8"
  }
 },
 "nbformat": 4,
 "nbformat_minor": 2
}
